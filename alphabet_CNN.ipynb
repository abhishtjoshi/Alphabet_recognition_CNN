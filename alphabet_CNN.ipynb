{
 "cells": [
  {
   "cell_type": "code",
   "execution_count": 1,
   "metadata": {},
   "outputs": [],
   "source": [
    "import numpy as np\n",
    "import matplotlib.pyplot as plt\n",
    "from keras.preprocessing.image import ImageDataGenerator\n",
    "from keras.preprocessing import image\n",
    "import keras\n",
    "from keras.models import Sequential\n",
    "from keras.layers import Conv2D, MaxPooling2D, Flatten, Dense, Activation\n",
    "import os\n",
    "import pickle\n"
   ]
  },
  {
   "cell_type": "code",
   "execution_count": 2,
   "metadata": {},
   "outputs": [
    {
     "name": "stdout",
     "output_type": "stream",
     "text": [
      "Model: \"sequential\"\n",
      "_________________________________________________________________\n",
      "Layer (type)                 Output Shape              Param #   \n",
      "=================================================================\n",
      "conv2d (Conv2D)              (None, 30, 30, 32)        896       \n",
      "_________________________________________________________________\n",
      "max_pooling2d (MaxPooling2D) (None, 15, 15, 32)        0         \n",
      "_________________________________________________________________\n",
      "conv2d_1 (Conv2D)            (None, 13, 13, 64)        18496     \n",
      "_________________________________________________________________\n",
      "max_pooling2d_1 (MaxPooling2 (None, 6, 6, 64)          0         \n",
      "_________________________________________________________________\n",
      "conv2d_2 (Conv2D)            (None, 4, 4, 64)          36928     \n",
      "_________________________________________________________________\n",
      "max_pooling2d_2 (MaxPooling2 (None, 2, 2, 64)          0         \n",
      "_________________________________________________________________\n",
      "flatten (Flatten)            (None, 256)               0         \n",
      "_________________________________________________________________\n",
      "dense (Dense)                (None, 128)               32896     \n",
      "_________________________________________________________________\n",
      "dense_1 (Dense)              (None, 26)                3354      \n",
      "=================================================================\n",
      "Total params: 92,570\n",
      "Trainable params: 92,570\n",
      "Non-trainable params: 0\n",
      "_________________________________________________________________\n"
     ]
    }
   ],
   "source": [
    "model = Sequential()\n",
    "model.add(Conv2D(32, (3, 3), input_shape = (32,32,3), activation = 'relu'))\n",
    "model.add(MaxPooling2D(pool_size = (2, 2)))\n",
    "\n",
    "\n",
    "model.add(Conv2D(64, (3, 3), activation = 'relu'))\n",
    "model.add(MaxPooling2D(pool_size = (2, 2)))\n",
    "\n",
    "model.add(Conv2D(64, (3, 3), activation = 'relu'))\n",
    "model.add(MaxPooling2D(pool_size = (2, 2)))\n",
    "\n",
    "model.add(Flatten())\n",
    "model.add(Dense(units = 128, activation = 'relu'))\n",
    "model.add(Dense(units = 26, activation = 'softmax'))\n",
    "\n",
    "\n",
    "model.compile(optimizer = 'adam', loss = 'categorical_crossentropy', metrics = ['accuracy'])\n",
    "\n",
    "model.summary()"
   ]
  },
  {
   "cell_type": "code",
   "execution_count": 3,
   "metadata": {},
   "outputs": [
    {
     "name": "stdout",
     "output_type": "stream",
     "text": [
      "Found 501 images belonging to 26 classes.\n",
      "Found 260 images belonging to 26 classes.\n"
     ]
    }
   ],
   "source": [
    "\n",
    "train_datagen = ImageDataGenerator(rescale = 1./255,\n",
    "                                   shear_range = 0.2,\n",
    "                                   zoom_range = 0.2,\n",
    "                                   horizontal_flip = True)\n",
    "\n",
    "test_datagen = ImageDataGenerator(rescale = 1./255)\n",
    "\n",
    "train_generator = train_datagen.flow_from_directory(\n",
    "    directory = 'Training',\n",
    "    target_size = (32,32),\n",
    "    batch_size = 32,\n",
    "    class_mode = 'categorical'\n",
    "\n",
    ")\n",
    "\n",
    "test_generator = test_datagen.flow_from_directory(\n",
    "    directory = 'Testing',\n",
    "    target_size = (32,32),\n",
    "    batch_size = 32,\n",
    "    class_mode = 'categorical'\n",
    "\n",
    ")"
   ]
  },
  {
   "cell_type": "code",
   "execution_count": 8,
   "metadata": {},
   "outputs": [
    {
     "name": "stdout",
     "output_type": "stream",
     "text": [
      "Epoch 1/25\n",
      "15/16 [===========================>..] - ETA: 0s - loss: 0.1801 - accuracy: 0.9275WARNING:tensorflow:Your input ran out of data; interrupting training. Make sure that your dataset or generator can generate at least `steps_per_epoch * epochs` batches (in this case, 16 batches). You may need to use the repeat() function when building your dataset.\n",
      "16/16 [==============================] - 1s 36ms/step - loss: 0.1800 - accuracy: 0.9301 - val_loss: 0.2589 - val_accuracy: 0.9115\n",
      "Epoch 2/25\n",
      "16/16 [==============================] - 0s 29ms/step - loss: 0.1698 - accuracy: 0.9281\n",
      "Epoch 3/25\n",
      "16/16 [==============================] - 0s 29ms/step - loss: 0.1564 - accuracy: 0.9202\n",
      "Epoch 4/25\n",
      "16/16 [==============================] - 0s 30ms/step - loss: 0.1677 - accuracy: 0.9162\n",
      "Epoch 5/25\n",
      "16/16 [==============================] - 0s 30ms/step - loss: 0.1497 - accuracy: 0.9381\n",
      "Epoch 6/25\n",
      "16/16 [==============================] - 0s 30ms/step - loss: 0.1649 - accuracy: 0.9321\n",
      "Epoch 7/25\n",
      "16/16 [==============================] - 0s 30ms/step - loss: 0.1290 - accuracy: 0.9401\n",
      "Epoch 8/25\n",
      "16/16 [==============================] - 0s 30ms/step - loss: 0.1253 - accuracy: 0.9421\n",
      "Epoch 9/25\n",
      "16/16 [==============================] - 0s 30ms/step - loss: 0.1896 - accuracy: 0.9142\n",
      "Epoch 10/25\n",
      "16/16 [==============================] - 0s 29ms/step - loss: 0.1515 - accuracy: 0.9222\n",
      "Epoch 11/25\n",
      "16/16 [==============================] - 1s 33ms/step - loss: 0.1324 - accuracy: 0.9441\n",
      "Epoch 12/25\n",
      "16/16 [==============================] - 0s 30ms/step - loss: 0.1196 - accuracy: 0.9401\n",
      "Epoch 13/25\n",
      "16/16 [==============================] - 0s 30ms/step - loss: 0.1510 - accuracy: 0.9441\n",
      "Epoch 14/25\n",
      "16/16 [==============================] - 0s 31ms/step - loss: 0.1706 - accuracy: 0.9261\n",
      "Epoch 15/25\n",
      "16/16 [==============================] - 1s 31ms/step - loss: 0.1108 - accuracy: 0.9561\n",
      "Epoch 16/25\n",
      "16/16 [==============================] - 1s 35ms/step - loss: 0.1294 - accuracy: 0.9401\n",
      "Epoch 17/25\n",
      "16/16 [==============================] - 1s 31ms/step - loss: 0.1360 - accuracy: 0.9461\n",
      "Epoch 18/25\n",
      "16/16 [==============================] - 1s 34ms/step - loss: 0.2342 - accuracy: 0.9281\n",
      "Epoch 19/25\n",
      "16/16 [==============================] - 1s 36ms/step - loss: 0.1107 - accuracy: 0.9521\n",
      "Epoch 20/25\n",
      "16/16 [==============================] - 1s 34ms/step - loss: 0.1541 - accuracy: 0.9301\n",
      "Epoch 21/25\n",
      "16/16 [==============================] - 1s 33ms/step - loss: 0.1018 - accuracy: 0.9601\n",
      "Epoch 22/25\n",
      "16/16 [==============================] - 1s 34ms/step - loss: 0.1035 - accuracy: 0.9601\n",
      "Epoch 23/25\n",
      "16/16 [==============================] - 1s 32ms/step - loss: 0.1047 - accuracy: 0.9521\n",
      "Epoch 24/25\n",
      "16/16 [==============================] - 1s 36ms/step - loss: 0.1432 - accuracy: 0.9341\n",
      "Epoch 25/25\n",
      "16/16 [==============================] - 1s 35ms/step - loss: 0.1012 - accuracy: 0.9541\n"
     ]
    }
   ],
   "source": [
    "\n",
    "history = model.fit(train_generator,\n",
    "                         steps_per_epoch = 16,\n",
    "                         epochs = 25,\n",
    "                         validation_data = test_generator,\n",
    "                         validation_steps = 16)"
   ]
  },
  {
   "cell_type": "code",
   "execution_count": 9,
   "metadata": {},
   "outputs": [],
   "source": [
    "def get_result(result):\n",
    "    if result[0][0] == 1:\n",
    "        return('a')\n",
    "    elif result[0][1] == 1:\n",
    "        return ('b')\n",
    "    elif result[0][2] == 1:\n",
    "        return ('c')\n",
    "    elif result[0][3] == 1:\n",
    "        return ('d')\n",
    "    elif result[0][4] == 1:\n",
    "        return ('e')\n",
    "    elif result[0][5] == 1:\n",
    "        return ('f')\n",
    "    elif result[0][6] == 1:\n",
    "        return ('g')\n",
    "    elif result[0][7] == 1:\n",
    "        return ('h')\n",
    "    elif result[0][8] == 1:\n",
    "        return ('i')\n",
    "    elif result[0][9] == 1:\n",
    "        return ('j')\n",
    "    elif result[0][10] == 1:\n",
    "        return ('k')\n",
    "    elif result[0][11] == 1:\n",
    "        return ('l')\n",
    "    elif result[0][12] == 1:\n",
    "        return ('m')\n",
    "    elif result[0][13] == 1:\n",
    "        return ('n')\n",
    "    elif result[0][14] == 1:\n",
    "        return ('o')\n",
    "    elif result[0][15] == 1:\n",
    "        return ('p')\n",
    "    elif result[0][16] == 1:\n",
    "        return ('q')\n",
    "    elif result[0][17] == 1:\n",
    "        return ('r')\n",
    "    elif result[0][18] == 1:\n",
    "        return ('s')\n",
    "    elif result[0][19] == 1:\n",
    "        return ('t')\n",
    "    elif result[0][20] == 1:\n",
    "        return ('u')\n",
    "    elif result[0][21] == 1:\n",
    "        return ('v')\n",
    "    elif result[0][22] == 1:\n",
    "        return ('w')\n",
    "    elif result[0][23] == 1:\n",
    "        return ('x')\n",
    "    elif result[0][24] == 1:\n",
    "        return ('y')\n",
    "    elif result[0][25] == 1:\n",
    "        return ('z')"
   ]
  },
  {
   "cell_type": "code",
   "execution_count": 10,
   "metadata": {},
   "outputs": [
    {
     "data": {
      "image/png": "[encoded data removed]",
      "text/plain": [
       "<Figure size 432x288 with 1 Axes>"
      ]
     },
     "metadata": {
      "needs_background": "light"
     },
     "output_type": "display_data"
    }
   ],
   "source": [
    "# import matplotlib.pyplot as plt\n",
    "# import matplotlib.image as mpimg\n",
    "# img=mpimg.imread('image_name.png')\n",
    "filename = r'Testing\\j\\21.png'\n",
    "test_image = image.load_img(filename, target_size = (32,32))\n",
    "plt.imshow(test_image)\n",
    "test_image = image.img_to_array(test_image)\n",
    "test_image = np.expand_dims(test_image, axis = 0)"
   ]
  },
  {
   "cell_type": "code",
   "execution_count": 11,
   "metadata": {},
   "outputs": [
    {
     "name": "stdout",
     "output_type": "stream",
     "text": [
      "Predicted Alphabet is: j\n"
     ]
    }
   ],
   "source": [
    "\n",
    "result = model.predict(test_image)\n",
    "result = get_result(result)\n",
    "print ('Predicted Alphabet is: {}'.format(result))"
   ]
  },
  {
   "cell_type": "code",
   "execution_count": null,
   "metadata": {},
   "outputs": [],
   "source": []
  },
  {
   "cell_type": "code",
   "execution_count": null,
   "metadata": {},
   "outputs": [],
   "source": []
  }
 ],
 "metadata": {
  "kernelspec": {
   "display_name": "Python 3",
   "language": "python",
   "name": "python3"
  },
  "language_info": {
   "codemirror_mode": {
    "name": "ipython",
    "version": 3
   },
   "file_extension": ".py",
   "mimetype": "text/x-python",
   "name": "python",
   "nbconvert_exporter": "python",
   "pygments_lexer": "ipython3",
   "version": "3.8.3"
  }
 },
 "nbformat": 4,
 "nbformat_minor": 4
}
